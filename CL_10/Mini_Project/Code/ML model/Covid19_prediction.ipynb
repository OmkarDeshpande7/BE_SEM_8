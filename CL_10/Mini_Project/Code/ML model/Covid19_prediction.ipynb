{
  "nbformat": 4,
  "nbformat_minor": 0,
  "metadata": {
    "colab": {
      "name": "Untitled2.ipynb",
      "provenance": [],
      "collapsed_sections": []
    },
    "kernelspec": {
      "name": "python3",
      "display_name": "Python 3"
    },
    "language_info": {
      "name": "python"
    }
  },
  "cells": [
    {
      "cell_type": "code",
      "metadata": {
        "id": "8eWZQdrbXr5w",
        "colab": {
          "base_uri": "https://localhost:8080/"
        },
        "outputId": "bc17e09f-2437-42eb-f29b-c8628a3ab3e5"
      },
      "source": [
        "from google.colab import drive\n",
        "drive.mount('/content/drive')"
      ],
      "execution_count": 31,
      "outputs": [
        {
          "output_type": "stream",
          "text": [
            "Drive already mounted at /content/drive; to attempt to forcibly remount, call drive.mount(\"/content/drive\", force_remount=True).\n"
          ],
          "name": "stdout"
        }
      ]
    },
    {
      "cell_type": "code",
      "metadata": {
        "id": "5gftVtX7NeLA"
      },
      "source": [
        "import lightgbm as lgb\n",
        "import numpy as np # linear algebra\n",
        "import pandas as pd # data processing, CSV file I/O (e.g. pd.read_csv)\n",
        "import matplotlib.pyplot as plt # data visualization\n",
        "import seaborn as sns # statistical data visualization"
      ],
      "execution_count": 32,
      "outputs": []
    },
    {
      "cell_type": "code",
      "metadata": {
        "colab": {
          "base_uri": "https://localhost:8080/"
        },
        "id": "wgDtSvqpYUk-",
        "outputId": "140b216f-c845-400b-ae9d-f71d9d8dd7f9"
      },
      "source": [
        "df = pd.read_csv('/content/sample_data/corona_tested_individuals_ver_006.english.csv')"
      ],
      "execution_count": 33,
      "outputs": [
        {
          "output_type": "stream",
          "text": [
            "/usr/local/lib/python3.7/dist-packages/IPython/core/interactiveshell.py:2718: DtypeWarning: Columns (1,2,3,4,5) have mixed types.Specify dtype option on import or set low_memory=False.\n",
            "  interactivity=interactivity, compiler=compiler, result=result)\n"
          ],
          "name": "stderr"
        }
      ]
    },
    {
      "cell_type": "code",
      "metadata": {
        "colab": {
          "base_uri": "https://localhost:8080/",
          "height": 203
        },
        "id": "XbAAQ4seZLvw",
        "outputId": "696441f2-58ad-46c1-eaf7-6f56334f7426"
      },
      "source": [
        "df.head()"
      ],
      "execution_count": 34,
      "outputs": [
        {
          "output_type": "execute_result",
          "data": {
            "text/html": [
              "<div>\n",
              "<style scoped>\n",
              "    .dataframe tbody tr th:only-of-type {\n",
              "        vertical-align: middle;\n",
              "    }\n",
              "\n",
              "    .dataframe tbody tr th {\n",
              "        vertical-align: top;\n",
              "    }\n",
              "\n",
              "    .dataframe thead th {\n",
              "        text-align: right;\n",
              "    }\n",
              "</style>\n",
              "<table border=\"1\" class=\"dataframe\">\n",
              "  <thead>\n",
              "    <tr style=\"text-align: right;\">\n",
              "      <th></th>\n",
              "      <th>test_date</th>\n",
              "      <th>cough</th>\n",
              "      <th>fever</th>\n",
              "      <th>sore_throat</th>\n",
              "      <th>shortness_of_breath</th>\n",
              "      <th>head_ache</th>\n",
              "      <th>corona_result</th>\n",
              "      <th>age_60_and_above</th>\n",
              "      <th>gender</th>\n",
              "      <th>test_indication</th>\n",
              "    </tr>\n",
              "  </thead>\n",
              "  <tbody>\n",
              "    <tr>\n",
              "      <th>0</th>\n",
              "      <td>2020-04-30</td>\n",
              "      <td>0</td>\n",
              "      <td>0</td>\n",
              "      <td>0</td>\n",
              "      <td>0</td>\n",
              "      <td>0</td>\n",
              "      <td>negative</td>\n",
              "      <td>None</td>\n",
              "      <td>female</td>\n",
              "      <td>Other</td>\n",
              "    </tr>\n",
              "    <tr>\n",
              "      <th>1</th>\n",
              "      <td>2020-04-30</td>\n",
              "      <td>1</td>\n",
              "      <td>0</td>\n",
              "      <td>0</td>\n",
              "      <td>0</td>\n",
              "      <td>0</td>\n",
              "      <td>negative</td>\n",
              "      <td>None</td>\n",
              "      <td>female</td>\n",
              "      <td>Other</td>\n",
              "    </tr>\n",
              "    <tr>\n",
              "      <th>2</th>\n",
              "      <td>2020-04-30</td>\n",
              "      <td>0</td>\n",
              "      <td>1</td>\n",
              "      <td>0</td>\n",
              "      <td>0</td>\n",
              "      <td>0</td>\n",
              "      <td>negative</td>\n",
              "      <td>None</td>\n",
              "      <td>male</td>\n",
              "      <td>Other</td>\n",
              "    </tr>\n",
              "    <tr>\n",
              "      <th>3</th>\n",
              "      <td>2020-04-30</td>\n",
              "      <td>1</td>\n",
              "      <td>0</td>\n",
              "      <td>0</td>\n",
              "      <td>0</td>\n",
              "      <td>0</td>\n",
              "      <td>negative</td>\n",
              "      <td>None</td>\n",
              "      <td>female</td>\n",
              "      <td>Other</td>\n",
              "    </tr>\n",
              "    <tr>\n",
              "      <th>4</th>\n",
              "      <td>2020-04-30</td>\n",
              "      <td>1</td>\n",
              "      <td>0</td>\n",
              "      <td>0</td>\n",
              "      <td>0</td>\n",
              "      <td>0</td>\n",
              "      <td>negative</td>\n",
              "      <td>None</td>\n",
              "      <td>male</td>\n",
              "      <td>Other</td>\n",
              "    </tr>\n",
              "  </tbody>\n",
              "</table>\n",
              "</div>"
            ],
            "text/plain": [
              "    test_date cough fever  ... age_60_and_above  gender test_indication\n",
              "0  2020-04-30     0     0  ...             None  female           Other\n",
              "1  2020-04-30     1     0  ...             None  female           Other\n",
              "2  2020-04-30     0     1  ...             None    male           Other\n",
              "3  2020-04-30     1     0  ...             None  female           Other\n",
              "4  2020-04-30     1     0  ...             None    male           Other\n",
              "\n",
              "[5 rows x 10 columns]"
            ]
          },
          "metadata": {
            "tags": []
          },
          "execution_count": 34
        }
      ]
    },
    {
      "cell_type": "code",
      "metadata": {
        "colab": {
          "base_uri": "https://localhost:8080/",
          "height": 203
        },
        "id": "-zNa6GWuZQb3",
        "outputId": "8cf99379-9812-473b-e0b9-8bbb2b108cd1"
      },
      "source": [
        "from sklearn import preprocessing\n",
        "  \n",
        "# label_encoder object knows how to understand word labels.\n",
        "label_encoder = preprocessing.LabelEncoder()\n",
        "  \n",
        "# Encode labels in column 'species'.\n",
        "df['corona_result']= label_encoder.fit_transform(df['corona_result'])\n",
        "df['age_60_and_above']= label_encoder.fit_transform(df['age_60_and_above'])\n",
        "df['gender']= label_encoder.fit_transform(df['gender'])\n",
        "df['test_indication']= label_encoder.fit_transform(df['test_indication'])\n",
        "\n",
        "\n",
        "df.head()"
      ],
      "execution_count": 35,
      "outputs": [
        {
          "output_type": "execute_result",
          "data": {
            "text/html": [
              "<div>\n",
              "<style scoped>\n",
              "    .dataframe tbody tr th:only-of-type {\n",
              "        vertical-align: middle;\n",
              "    }\n",
              "\n",
              "    .dataframe tbody tr th {\n",
              "        vertical-align: top;\n",
              "    }\n",
              "\n",
              "    .dataframe thead th {\n",
              "        text-align: right;\n",
              "    }\n",
              "</style>\n",
              "<table border=\"1\" class=\"dataframe\">\n",
              "  <thead>\n",
              "    <tr style=\"text-align: right;\">\n",
              "      <th></th>\n",
              "      <th>test_date</th>\n",
              "      <th>cough</th>\n",
              "      <th>fever</th>\n",
              "      <th>sore_throat</th>\n",
              "      <th>shortness_of_breath</th>\n",
              "      <th>head_ache</th>\n",
              "      <th>corona_result</th>\n",
              "      <th>age_60_and_above</th>\n",
              "      <th>gender</th>\n",
              "      <th>test_indication</th>\n",
              "    </tr>\n",
              "  </thead>\n",
              "  <tbody>\n",
              "    <tr>\n",
              "      <th>0</th>\n",
              "      <td>2020-04-30</td>\n",
              "      <td>0</td>\n",
              "      <td>0</td>\n",
              "      <td>0</td>\n",
              "      <td>0</td>\n",
              "      <td>0</td>\n",
              "      <td>0</td>\n",
              "      <td>1</td>\n",
              "      <td>1</td>\n",
              "      <td>2</td>\n",
              "    </tr>\n",
              "    <tr>\n",
              "      <th>1</th>\n",
              "      <td>2020-04-30</td>\n",
              "      <td>1</td>\n",
              "      <td>0</td>\n",
              "      <td>0</td>\n",
              "      <td>0</td>\n",
              "      <td>0</td>\n",
              "      <td>0</td>\n",
              "      <td>1</td>\n",
              "      <td>1</td>\n",
              "      <td>2</td>\n",
              "    </tr>\n",
              "    <tr>\n",
              "      <th>2</th>\n",
              "      <td>2020-04-30</td>\n",
              "      <td>0</td>\n",
              "      <td>1</td>\n",
              "      <td>0</td>\n",
              "      <td>0</td>\n",
              "      <td>0</td>\n",
              "      <td>0</td>\n",
              "      <td>1</td>\n",
              "      <td>2</td>\n",
              "      <td>2</td>\n",
              "    </tr>\n",
              "    <tr>\n",
              "      <th>3</th>\n",
              "      <td>2020-04-30</td>\n",
              "      <td>1</td>\n",
              "      <td>0</td>\n",
              "      <td>0</td>\n",
              "      <td>0</td>\n",
              "      <td>0</td>\n",
              "      <td>0</td>\n",
              "      <td>1</td>\n",
              "      <td>1</td>\n",
              "      <td>2</td>\n",
              "    </tr>\n",
              "    <tr>\n",
              "      <th>4</th>\n",
              "      <td>2020-04-30</td>\n",
              "      <td>1</td>\n",
              "      <td>0</td>\n",
              "      <td>0</td>\n",
              "      <td>0</td>\n",
              "      <td>0</td>\n",
              "      <td>0</td>\n",
              "      <td>1</td>\n",
              "      <td>2</td>\n",
              "      <td>2</td>\n",
              "    </tr>\n",
              "  </tbody>\n",
              "</table>\n",
              "</div>"
            ],
            "text/plain": [
              "    test_date cough fever  ... age_60_and_above gender test_indication\n",
              "0  2020-04-30     0     0  ...                1      1               2\n",
              "1  2020-04-30     1     0  ...                1      1               2\n",
              "2  2020-04-30     0     1  ...                1      2               2\n",
              "3  2020-04-30     1     0  ...                1      1               2\n",
              "4  2020-04-30     1     0  ...                1      2               2\n",
              "\n",
              "[5 rows x 10 columns]"
            ]
          },
          "metadata": {
            "tags": []
          },
          "execution_count": 35
        }
      ]
    },
    {
      "cell_type": "code",
      "metadata": {
        "id": "qBsvMGY6ebgU"
      },
      "source": [
        "df.drop('test_date',axis='columns', inplace=True)"
      ],
      "execution_count": 36,
      "outputs": []
    },
    {
      "cell_type": "code",
      "metadata": {
        "colab": {
          "base_uri": "https://localhost:8080/"
        },
        "id": "OTCoP8NNZidp",
        "outputId": "87979540-4d68-4367-b305-15e45353090e"
      },
      "source": [
        "# view summary of dataset\n",
        "df.info()"
      ],
      "execution_count": 37,
      "outputs": [
        {
          "output_type": "stream",
          "text": [
            "<class 'pandas.core.frame.DataFrame'>\n",
            "RangeIndex: 278848 entries, 0 to 278847\n",
            "Data columns (total 9 columns):\n",
            " #   Column               Non-Null Count   Dtype \n",
            "---  ------               --------------   ----- \n",
            " 0   cough                278848 non-null  object\n",
            " 1   fever                278848 non-null  object\n",
            " 2   sore_throat          278848 non-null  object\n",
            " 3   shortness_of_breath  278848 non-null  object\n",
            " 4   head_ache            278848 non-null  object\n",
            " 5   corona_result        278848 non-null  int64 \n",
            " 6   age_60_and_above     278848 non-null  int64 \n",
            " 7   gender               278848 non-null  int64 \n",
            " 8   test_indication      278848 non-null  int64 \n",
            "dtypes: int64(4), object(5)\n",
            "memory usage: 19.1+ MB\n"
          ],
          "name": "stdout"
        }
      ]
    },
    {
      "cell_type": "code",
      "metadata": {
        "colab": {
          "base_uri": "https://localhost:8080/"
        },
        "id": "KDelRUHbZuPk",
        "outputId": "8e21a4fb-444a-43a5-a977-069885d4efcc"
      },
      "source": [
        "# check the distribution of the target variable\n",
        "df['corona_result'].value_counts()"
      ],
      "execution_count": 38,
      "outputs": [
        {
          "output_type": "execute_result",
          "data": {
            "text/plain": [
              "0    260227\n",
              "2     14729\n",
              "1      3892\n",
              "Name: corona_result, dtype: int64"
            ]
          },
          "metadata": {
            "tags": []
          },
          "execution_count": 38
        }
      ]
    },
    {
      "cell_type": "code",
      "metadata": {
        "id": "lxS7kgeIfsNp"
      },
      "source": [
        "df=df.mask(df.eq('None')).dropna()\n",
        "\n"
      ],
      "execution_count": 39,
      "outputs": []
    },
    {
      "cell_type": "code",
      "metadata": {
        "id": "NBc6PR1ylQf3"
      },
      "source": [
        "df['cough'] = pd.to_numeric(df['cough'])\n",
        "df['fever'] = pd.to_numeric(df['fever'])\n",
        "df['sore_throat'] = pd.to_numeric(df['sore_throat'])\n",
        "df['head_ache'] = pd.to_numeric(df['head_ache'])\n",
        "df['shortness_of_breath'] = pd.to_numeric(df['shortness_of_breath'])\n"
      ],
      "execution_count": 40,
      "outputs": []
    },
    {
      "cell_type": "code",
      "metadata": {
        "id": "v5EBjrlOZ4SX"
      },
      "source": [
        "X = df[['cough','fever','sore_throat','shortness_of_breath','head_ache','age_60_and_above','gender','test_indication']]\n",
        "y = df['corona_result']\n"
      ],
      "execution_count": 41,
      "outputs": []
    },
    {
      "cell_type": "code",
      "metadata": {
        "colab": {
          "base_uri": "https://localhost:8080/",
          "height": 203
        },
        "id": "rA_mcu6QavFD",
        "outputId": "942e16eb-0585-4778-9631-748881a9c545"
      },
      "source": [
        "X.head()"
      ],
      "execution_count": 42,
      "outputs": [
        {
          "output_type": "execute_result",
          "data": {
            "text/html": [
              "<div>\n",
              "<style scoped>\n",
              "    .dataframe tbody tr th:only-of-type {\n",
              "        vertical-align: middle;\n",
              "    }\n",
              "\n",
              "    .dataframe tbody tr th {\n",
              "        vertical-align: top;\n",
              "    }\n",
              "\n",
              "    .dataframe thead th {\n",
              "        text-align: right;\n",
              "    }\n",
              "</style>\n",
              "<table border=\"1\" class=\"dataframe\">\n",
              "  <thead>\n",
              "    <tr style=\"text-align: right;\">\n",
              "      <th></th>\n",
              "      <th>cough</th>\n",
              "      <th>fever</th>\n",
              "      <th>sore_throat</th>\n",
              "      <th>shortness_of_breath</th>\n",
              "      <th>head_ache</th>\n",
              "      <th>age_60_and_above</th>\n",
              "      <th>gender</th>\n",
              "      <th>test_indication</th>\n",
              "    </tr>\n",
              "  </thead>\n",
              "  <tbody>\n",
              "    <tr>\n",
              "      <th>0</th>\n",
              "      <td>0</td>\n",
              "      <td>0</td>\n",
              "      <td>0</td>\n",
              "      <td>0</td>\n",
              "      <td>0</td>\n",
              "      <td>1</td>\n",
              "      <td>1</td>\n",
              "      <td>2</td>\n",
              "    </tr>\n",
              "    <tr>\n",
              "      <th>1</th>\n",
              "      <td>1</td>\n",
              "      <td>0</td>\n",
              "      <td>0</td>\n",
              "      <td>0</td>\n",
              "      <td>0</td>\n",
              "      <td>1</td>\n",
              "      <td>1</td>\n",
              "      <td>2</td>\n",
              "    </tr>\n",
              "    <tr>\n",
              "      <th>2</th>\n",
              "      <td>0</td>\n",
              "      <td>1</td>\n",
              "      <td>0</td>\n",
              "      <td>0</td>\n",
              "      <td>0</td>\n",
              "      <td>1</td>\n",
              "      <td>2</td>\n",
              "      <td>2</td>\n",
              "    </tr>\n",
              "    <tr>\n",
              "      <th>3</th>\n",
              "      <td>1</td>\n",
              "      <td>0</td>\n",
              "      <td>0</td>\n",
              "      <td>0</td>\n",
              "      <td>0</td>\n",
              "      <td>1</td>\n",
              "      <td>1</td>\n",
              "      <td>2</td>\n",
              "    </tr>\n",
              "    <tr>\n",
              "      <th>4</th>\n",
              "      <td>1</td>\n",
              "      <td>0</td>\n",
              "      <td>0</td>\n",
              "      <td>0</td>\n",
              "      <td>0</td>\n",
              "      <td>1</td>\n",
              "      <td>2</td>\n",
              "      <td>2</td>\n",
              "    </tr>\n",
              "  </tbody>\n",
              "</table>\n",
              "</div>"
            ],
            "text/plain": [
              "   cough  fever  sore_throat  ...  age_60_and_above  gender  test_indication\n",
              "0      0      0            0  ...                 1       1                2\n",
              "1      1      0            0  ...                 1       1                2\n",
              "2      0      1            0  ...                 1       2                2\n",
              "3      1      0            0  ...                 1       1                2\n",
              "4      1      0            0  ...                 1       2                2\n",
              "\n",
              "[5 rows x 8 columns]"
            ]
          },
          "metadata": {
            "tags": []
          },
          "execution_count": 42
        }
      ]
    },
    {
      "cell_type": "code",
      "metadata": {
        "colab": {
          "base_uri": "https://localhost:8080/"
        },
        "id": "pbsMjoJPaz4l",
        "outputId": "1fce11fb-f856-4383-d41c-0f749bcc17e4"
      },
      "source": [
        "y.head()"
      ],
      "execution_count": 43,
      "outputs": [
        {
          "output_type": "execute_result",
          "data": {
            "text/plain": [
              "0    0\n",
              "1    0\n",
              "2    0\n",
              "3    0\n",
              "4    0\n",
              "Name: corona_result, dtype: int64"
            ]
          },
          "metadata": {
            "tags": []
          },
          "execution_count": 43
        }
      ]
    },
    {
      "cell_type": "code",
      "metadata": {
        "id": "T_otpIJQbBcx"
      },
      "source": [
        "# split the dataset into the training set and test set\n",
        "from sklearn.model_selection import train_test_split\n",
        "X_train, X_test, y_train, y_test = train_test_split(X, y, test_size = 0.3, random_state = 0)"
      ],
      "execution_count": 44,
      "outputs": []
    },
    {
      "cell_type": "code",
      "metadata": {
        "colab": {
          "base_uri": "https://localhost:8080/"
        },
        "id": "vObWbCh1bIfN",
        "outputId": "caff9c60-aeb3-452a-921c-6f10ec00a4bb"
      },
      "source": [
        "import lightgbm as lgb\n",
        "clf = lgb.LGBMClassifier(num_leaves= 20, min_data_in_leaf= 4, feature_fraction= 0.2, bagging_fraction= 0.8, bagging_freq= 5, learning_rate= 0.05,verbose=1)\n",
        "clf.fit(X_train, y_train)"
      ],
      "execution_count": 45,
      "outputs": [
        {
          "output_type": "execute_result",
          "data": {
            "text/plain": [
              "LGBMClassifier(bagging_fraction=0.8, bagging_freq=5, boosting_type='gbdt',\n",
              "               class_weight=None, colsample_bytree=1.0, feature_fraction=0.2,\n",
              "               importance_type='split', learning_rate=0.05, max_depth=-1,\n",
              "               min_child_samples=20, min_child_weight=0.001, min_data_in_leaf=4,\n",
              "               min_split_gain=0.0, n_estimators=100, n_jobs=-1, num_leaves=20,\n",
              "               objective=None, random_state=None, reg_alpha=0.0, reg_lambda=0.0,\n",
              "               silent=True, subsample=1.0, subsample_for_bin=200000,\n",
              "               subsample_freq=0, verbose=1)"
            ]
          },
          "metadata": {
            "tags": []
          },
          "execution_count": 45
        }
      ]
    },
    {
      "cell_type": "code",
      "metadata": {
        "colab": {
          "base_uri": "https://localhost:8080/"
        },
        "id": "etF0Ac-qnfLo",
        "outputId": "569a94d1-47bb-49bf-fcc1-e3d4a7b1752d"
      },
      "source": [
        "y_pred=clf.predict(X_test)\n",
        "\n",
        "y_pred[0]\n"
      ],
      "execution_count": 46,
      "outputs": [
        {
          "output_type": "execute_result",
          "data": {
            "text/plain": [
              "0"
            ]
          },
          "metadata": {
            "tags": []
          },
          "execution_count": 46
        }
      ]
    },
    {
      "cell_type": "code",
      "metadata": {
        "colab": {
          "base_uri": "https://localhost:8080/"
        },
        "id": "8sFGrleknoo0",
        "outputId": "d9be3062-a54d-4b55-959d-4dbb976af789"
      },
      "source": [
        "# view accuracy\n",
        "from sklearn.metrics import accuracy_score\n",
        "accuracy=accuracy_score(y_pred, y_test)\n",
        "print('LightGBM Model accuracy score: {0:0.4f}'.format(accuracy_score(y_test, y_pred)))"
      ],
      "execution_count": 47,
      "outputs": [
        {
          "output_type": "stream",
          "text": [
            "LightGBM Model accuracy score: 0.9424\n"
          ],
          "name": "stdout"
        }
      ]
    },
    {
      "cell_type": "code",
      "metadata": {
        "colab": {
          "base_uri": "https://localhost:8080/"
        },
        "id": "J1Z7xPeynxOZ",
        "outputId": "ef04d93f-eb5f-48b8-fbea-62532bfbd9ae"
      },
      "source": [
        "y_pred_train = clf.predict(X_train)\n",
        "\n",
        "print('Training-set accuracy score: {0:0.4f}'. format(accuracy_score(y_train, y_pred_train)))"
      ],
      "execution_count": 48,
      "outputs": [
        {
          "output_type": "stream",
          "text": [
            "Training-set accuracy score: 0.9422\n"
          ],
          "name": "stdout"
        }
      ]
    },
    {
      "cell_type": "code",
      "metadata": {
        "colab": {
          "base_uri": "https://localhost:8080/"
        },
        "id": "TjiysYaToILR",
        "outputId": "78b99f48-8d5c-4745-83fa-4202120e39d9"
      },
      "source": [
        "# print the scores on training and test set\n",
        "\n",
        "print('Training set score: {:.4f}'.format(clf.score(X_train, y_train)))\n",
        "\n",
        "print('Test set score: {:.4f}'.format(clf.score(X_test, y_test)))"
      ],
      "execution_count": 49,
      "outputs": [
        {
          "output_type": "stream",
          "text": [
            "Training set score: 0.9422\n",
            "Test set score: 0.9424\n"
          ],
          "name": "stdout"
        }
      ]
    },
    {
      "cell_type": "code",
      "metadata": {
        "colab": {
          "base_uri": "https://localhost:8080/"
        },
        "id": "zPQJ4PzIoLz6",
        "outputId": "b7756280-5cee-4101-b87a-6a72bde22254"
      },
      "source": [
        "# view confusion-matrix\n",
        "# Print the Confusion Matrix and slice it into four pieces\n",
        "\n",
        "from sklearn.metrics import confusion_matrix\n",
        "cm = confusion_matrix(y_test, y_pred)\n",
        "print('Confusion matrix\\n\\n', cm)\n",
        "print('\\nTrue Positives(TP) = ', cm[0,0])\n",
        "print('\\nTrue Negatives(TN) = ', cm[1,1])\n",
        "print('\\nFalse Positives(FP) = ', cm[0,1])\n",
        "print('\\nFalse Negatives(FN) = ', cm[1,0])"
      ],
      "execution_count": 50,
      "outputs": [
        {
          "output_type": "stream",
          "text": [
            "Confusion matrix\n",
            "\n",
            " [[77852     0   172]\n",
            " [ 1171     0    20]\n",
            " [ 3455     0   909]]\n",
            "\n",
            "True Positives(TP) =  77852\n",
            "\n",
            "True Negatives(TN) =  0\n",
            "\n",
            "False Positives(FP) =  0\n",
            "\n",
            "False Negatives(FN) =  1171\n"
          ],
          "name": "stdout"
        }
      ]
    },
    {
      "cell_type": "code",
      "metadata": {
        "colab": {
          "base_uri": "https://localhost:8080/"
        },
        "id": "a8TBRb9Kpagv",
        "outputId": "166ba43f-79ed-4a22-e99f-b99618e24ff8"
      },
      "source": [
        "from sklearn.metrics import classification_report\n",
        "print(classification_report(y_test, y_pred))"
      ],
      "execution_count": 51,
      "outputs": [
        {
          "output_type": "stream",
          "text": [
            "              precision    recall  f1-score   support\n",
            "\n",
            "           0       0.94      1.00      0.97     78024\n",
            "           1       0.00      0.00      0.00      1191\n",
            "           2       0.83      0.21      0.33      4364\n",
            "\n",
            "    accuracy                           0.94     83579\n",
            "   macro avg       0.59      0.40      0.43     83579\n",
            "weighted avg       0.92      0.94      0.92     83579\n",
            "\n"
          ],
          "name": "stdout"
        },
        {
          "output_type": "stream",
          "text": [
            "/usr/local/lib/python3.7/dist-packages/sklearn/metrics/_classification.py:1272: UndefinedMetricWarning: Precision and F-score are ill-defined and being set to 0.0 in labels with no predicted samples. Use `zero_division` parameter to control this behavior.\n",
            "  _warn_prf(average, modifier, msg_start, len(result))\n"
          ],
          "name": "stderr"
        }
      ]
    },
    {
      "cell_type": "code",
      "metadata": {
        "colab": {
          "base_uri": "https://localhost:8080/"
        },
        "id": "dHhKIeHqtBkw",
        "outputId": "f29383ca-69a5-4c6b-a8ff-505842f74185"
      },
      "source": [
        "!pip install flask_ngrok"
      ],
      "execution_count": 52,
      "outputs": [
        {
          "output_type": "stream",
          "text": [
            "Requirement already satisfied: flask_ngrok in /usr/local/lib/python3.7/dist-packages (0.0.25)\n",
            "Requirement already satisfied: Flask>=0.8 in /usr/local/lib/python3.7/dist-packages (from flask_ngrok) (1.1.4)\n",
            "Requirement already satisfied: requests in /usr/local/lib/python3.7/dist-packages (from flask_ngrok) (2.23.0)\n",
            "Requirement already satisfied: click<8.0,>=5.1 in /usr/local/lib/python3.7/dist-packages (from Flask>=0.8->flask_ngrok) (7.1.2)\n",
            "Requirement already satisfied: Werkzeug<2.0,>=0.15 in /usr/local/lib/python3.7/dist-packages (from Flask>=0.8->flask_ngrok) (1.0.1)\n",
            "Requirement already satisfied: itsdangerous<2.0,>=0.24 in /usr/local/lib/python3.7/dist-packages (from Flask>=0.8->flask_ngrok) (1.1.0)\n",
            "Requirement already satisfied: Jinja2<3.0,>=2.10.1 in /usr/local/lib/python3.7/dist-packages (from Flask>=0.8->flask_ngrok) (2.11.3)\n",
            "Requirement already satisfied: idna<3,>=2.5 in /usr/local/lib/python3.7/dist-packages (from requests->flask_ngrok) (2.10)\n",
            "Requirement already satisfied: certifi>=2017.4.17 in /usr/local/lib/python3.7/dist-packages (from requests->flask_ngrok) (2020.12.5)\n",
            "Requirement already satisfied: chardet<4,>=3.0.2 in /usr/local/lib/python3.7/dist-packages (from requests->flask_ngrok) (3.0.4)\n",
            "Requirement already satisfied: urllib3!=1.25.0,!=1.25.1,<1.26,>=1.21.1 in /usr/local/lib/python3.7/dist-packages (from requests->flask_ngrok) (1.24.3)\n",
            "Requirement already satisfied: MarkupSafe>=0.23 in /usr/local/lib/python3.7/dist-packages (from Jinja2<3.0,>=2.10.1->Flask>=0.8->flask_ngrok) (2.0.1)\n"
          ],
          "name": "stdout"
        }
      ]
    },
    {
      "cell_type": "code",
      "metadata": {
        "colab": {
          "base_uri": "https://localhost:8080/"
        },
        "id": "18YEjxSYq1yG",
        "outputId": "23826600-943d-4784-a9c2-f94c3dfb0659"
      },
      "source": [
        "# flask_ngrok_example.py\n",
        "from flask import Flask\n",
        "from flask_ngrok import run_with_ngrok\n",
        "from flask import request, jsonify\n",
        "from collections import defaultdict\n",
        "import json\n",
        "\n",
        "answer_dict = {'YES':1,'NO':0,'Male':1,'Female':0}\n",
        "app = Flask(__name__)\n",
        "run_with_ngrok(app)  # Start ngrok when app is run\n",
        "\n",
        "@app.route(\"/\",methods=['GET', 'POST'])\n",
        "def hello():\n",
        "    data = request.json\n",
        "    print(data)\n",
        "    features = []\n",
        "    \n",
        "    for obj in data:\n",
        "      if obj.get('question') != 'Address':\n",
        "        features.append(answer_dict[obj['selected_answer'][0]['answer_choice']])\n",
        "    answer = clf.predict([features])\n",
        "    print(answer)\n",
        "    return json.dumps([{'answer':str(answer[0])}])\n",
        "\n",
        "if __name__ == '__main__':\n",
        "    app.run()"
      ],
      "execution_count": null,
      "outputs": [
        {
          "output_type": "stream",
          "text": [
            " * Serving Flask app \"__main__\" (lazy loading)\n",
            " * Environment: production\n",
            "\u001b[31m   WARNING: This is a development server. Do not use it in a production deployment.\u001b[0m\n",
            "\u001b[2m   Use a production WSGI server instead.\u001b[0m\n",
            " * Debug mode: off\n"
          ],
          "name": "stdout"
        },
        {
          "output_type": "stream",
          "text": [
            " * Running on http://127.0.0.1:5000/ (Press CTRL+C to quit)\n"
          ],
          "name": "stderr"
        },
        {
          "output_type": "stream",
          "text": [
            " * Running on http://f66d38887935.ngrok.io\n",
            " * Traffic stats available on http://127.0.0.1:4040\n"
          ],
          "name": "stdout"
        },
        {
          "output_type": "stream",
          "text": [
            "127.0.0.1 - - [28/May/2021 14:52:50] \"\u001b[37mPOST / HTTP/1.1\u001b[0m\" 200 -\n"
          ],
          "name": "stderr"
        },
        {
          "output_type": "stream",
          "text": [
            "[{'question': 'Do you have fever ?', 'selected_answer': [{'answer_choice': 'NO'}]}, {'question': 'Are you over 60 years of age ?', 'selected_answer': [{'answer_choice': 'NO'}]}, {'question': 'SEX ?', 'selected_answer': [{'answer_choice': 'Female'}]}, {'question': 'Do you have cough ?', 'selected_answer': [{'answer_choice': 'NO'}]}, {'question': 'Do you have shortness of breath ?', 'selected_answer': [{'answer_choice': 'NO'}]}, {'question': 'Do you have sore throat ?', 'selected_answer': [{'answer_choice': 'NO'}]}, {'question': 'Do you have headache ?', 'selected_answer': [{'answer_choice': 'NO'}]}, {'question': 'Was you in contact with covid19 infected person ?', 'selected_answer': [{'answer_choice': 'NO'}]}, {'question': 'Address', 'selected_answer': [{'answer_choice': '2515, Wadekar lean, Chandrashekhar Chowk, Rangargalli, Sangamner, Maharashtra 422605, India'}]}]\n",
            "[0]\n"
          ],
          "name": "stdout"
        },
        {
          "output_type": "stream",
          "text": [
            "127.0.0.1 - - [28/May/2021 14:58:07] \"\u001b[37mPOST / HTTP/1.1\u001b[0m\" 200 -\n"
          ],
          "name": "stderr"
        },
        {
          "output_type": "stream",
          "text": [
            "[{'question': 'Do you have fever ?', 'selected_answer': [{'answer_choice': 'NO'}]}, {'question': 'Are you over 60 years of age ?', 'selected_answer': [{'answer_choice': 'NO'}]}, {'question': 'SEX ?', 'selected_answer': [{'answer_choice': 'Female'}]}, {'question': 'Do you have cough ?', 'selected_answer': [{'answer_choice': 'NO'}]}, {'question': 'Do you have shortness of breath ?', 'selected_answer': [{'answer_choice': 'NO'}]}, {'question': 'Do you have sore throat ?', 'selected_answer': [{'answer_choice': 'NO'}]}, {'question': 'Do you have headache ?', 'selected_answer': [{'answer_choice': 'NO'}]}, {'question': 'Was you in contact with covid19 infected person ?', 'selected_answer': [{'answer_choice': 'NO'}]}, {'question': 'Address', 'selected_answer': [{'answer_choice': '2515, Wadekar lean, Chandrashekhar Chowk, Rangargalli, Sangamner, Maharashtra 422605, India'}]}]\n",
            "[0]\n"
          ],
          "name": "stdout"
        },
        {
          "output_type": "stream",
          "text": [
            "127.0.0.1 - - [28/May/2021 15:00:25] \"\u001b[37mPOST / HTTP/1.1\u001b[0m\" 200 -\n"
          ],
          "name": "stderr"
        },
        {
          "output_type": "stream",
          "text": [
            "[{'question': 'Do you have fever ?', 'selected_answer': [{'answer_choice': 'NO'}]}, {'question': 'Are you over 60 years of age ?', 'selected_answer': [{'answer_choice': 'NO'}]}, {'question': 'SEX ?', 'selected_answer': [{'answer_choice': 'Female'}]}, {'question': 'Do you have cough ?', 'selected_answer': [{'answer_choice': 'NO'}]}, {'question': 'Do you have shortness of breath ?', 'selected_answer': [{'answer_choice': 'NO'}]}, {'question': 'Do you have sore throat ?', 'selected_answer': [{'answer_choice': 'NO'}]}, {'question': 'Do you have headache ?', 'selected_answer': [{'answer_choice': 'NO'}]}, {'question': 'Was you in contact with covid19 infected person ?', 'selected_answer': [{'answer_choice': 'NO'}]}, {'question': 'Address', 'selected_answer': [{'answer_choice': '2515, Wadekar lean, Chandrashekhar Chowk, Rangargalli, Sangamner, Maharashtra 422605, India'}]}]\n",
            "[0]\n"
          ],
          "name": "stdout"
        },
        {
          "output_type": "stream",
          "text": [
            "127.0.0.1 - - [28/May/2021 15:00:59] \"\u001b[37mPOST / HTTP/1.1\u001b[0m\" 200 -\n"
          ],
          "name": "stderr"
        },
        {
          "output_type": "stream",
          "text": [
            "[{'question': 'Do you have fever ?', 'selected_answer': [{'answer_choice': 'NO'}]}, {'question': 'Are you over 60 years of age ?', 'selected_answer': [{'answer_choice': 'NO'}]}, {'question': 'SEX ?', 'selected_answer': [{'answer_choice': 'Female'}]}, {'question': 'Do you have cough ?', 'selected_answer': [{'answer_choice': 'NO'}]}, {'question': 'Do you have shortness of breath ?', 'selected_answer': [{'answer_choice': 'NO'}]}, {'question': 'Do you have sore throat ?', 'selected_answer': [{'answer_choice': 'NO'}]}, {'question': 'Do you have headache ?', 'selected_answer': [{'answer_choice': 'NO'}]}, {'question': 'Was you in contact with covid19 infected person ?', 'selected_answer': [{'answer_choice': 'NO'}]}, {'question': 'Address', 'selected_answer': [{'answer_choice': '2515, Wadekar lean, Chandrashekhar Chowk, Rangargalli, Sangamner, Maharashtra 422605, India'}]}]\n",
            "[0]\n"
          ],
          "name": "stdout"
        },
        {
          "output_type": "stream",
          "text": [
            "127.0.0.1 - - [28/May/2021 15:03:57] \"\u001b[37mPOST / HTTP/1.1\u001b[0m\" 200 -\n"
          ],
          "name": "stderr"
        },
        {
          "output_type": "stream",
          "text": [
            "[{'question': 'Do you have fever ?', 'selected_answer': [{'answer_choice': 'NO'}]}, {'question': 'Are you over 60 years of age ?', 'selected_answer': [{'answer_choice': 'NO'}]}, {'question': 'SEX ?', 'selected_answer': [{'answer_choice': 'Female'}]}, {'question': 'Do you have cough ?', 'selected_answer': [{'answer_choice': 'NO'}]}, {'question': 'Do you have shortness of breath ?', 'selected_answer': [{'answer_choice': 'NO'}]}, {'question': 'Do you have sore throat ?', 'selected_answer': [{'answer_choice': 'NO'}]}, {'question': 'Do you have headache ?', 'selected_answer': [{'answer_choice': 'NO'}]}, {'question': 'Was you in contact with covid19 infected person ?', 'selected_answer': [{'answer_choice': 'NO'}]}, {'question': 'Address', 'selected_answer': [{'answer_choice': '2515, Wadekar lean, Chandrashekhar Chowk, Rangargalli, Sangamner, Maharashtra 422605, India'}]}]\n",
            "[0]\n"
          ],
          "name": "stdout"
        },
        {
          "output_type": "stream",
          "text": [
            "127.0.0.1 - - [28/May/2021 15:04:46] \"\u001b[37mPOST / HTTP/1.1\u001b[0m\" 200 -\n",
            "127.0.0.1 - - [28/May/2021 15:04:46] \"\u001b[37mPOST / HTTP/1.1\u001b[0m\" 200 -\n"
          ],
          "name": "stderr"
        },
        {
          "output_type": "stream",
          "text": [
            "[{'question': 'Do you have fever ?', 'selected_answer': [{'answer_choice': 'YES'}]}, {'question': 'Are you over 60 years of age ?', 'selected_answer': [{'answer_choice': 'YES'}]}, {'question': 'SEX ?', 'selected_answer': [{'answer_choice': 'Male'}]}, {'question': 'Do you have cough ?', 'selected_answer': [{'answer_choice': 'YES'}]}, {'question': 'Do you have shortness of breath ?', 'selected_answer': [{'answer_choice': 'YES'}]}, {'question': 'Do you have sore throat ?', 'selected_answer': [{'answer_choice': 'YES'}]}, {'question': 'Do you have headache ?', 'selected_answer': [{'answer_choice': 'YES'}]}, {'question': 'Was you in contact with covid19 infected person ?', 'selected_answer': [{'answer_choice': 'YES'}]}, {'question': 'Address', 'selected_answer': [{'answer_choice': '2515, Wadekar lean, Chandrashekhar Chowk, Rangargalli, Sangamner, Maharashtra 422605, India'}]}]\n",
            "[2]\n",
            "[{'question': 'Do you have fever ?', 'selected_answer': [{'answer_choice': 'YES'}]}, {'question': 'Are you over 60 years of age ?', 'selected_answer': [{'answer_choice': 'YES'}]}, {'question': 'SEX ?', 'selected_answer': [{'answer_choice': 'Male'}]}, {'question': 'Do you have cough ?', 'selected_answer': [{'answer_choice': 'YES'}]}, {'question': 'Do you have shortness of breath ?', 'selected_answer': [{'answer_choice': 'YES'}]}, {'question': 'Do you have sore throat ?', 'selected_answer': [{'answer_choice': 'YES'}]}, {'question': 'Do you have headache ?', 'selected_answer': [{'answer_choice': 'YES'}]}, {'question': 'Was you in contact with covid19 infected person ?', 'selected_answer': [{'answer_choice': 'YES'}]}, {'question': 'Address', 'selected_answer': [{'answer_choice': '2515, Wadekar lean, Chandrashekhar Chowk, Rangargalli, Sangamner, Maharashtra 422605, India'}]}]\n",
            "[2]\n"
          ],
          "name": "stdout"
        },
        {
          "output_type": "stream",
          "text": [
            "127.0.0.1 - - [28/May/2021 15:05:43] \"\u001b[37mPOST / HTTP/1.1\u001b[0m\" 200 -\n"
          ],
          "name": "stderr"
        },
        {
          "output_type": "stream",
          "text": [
            "[{'question': 'Do you have fever ?', 'selected_answer': [{'answer_choice': 'NO'}]}, {'question': 'Are you over 60 years of age ?', 'selected_answer': [{'answer_choice': 'NO'}]}, {'question': 'SEX ?', 'selected_answer': [{'answer_choice': 'Female'}]}, {'question': 'Do you have cough ?', 'selected_answer': [{'answer_choice': 'NO'}]}, {'question': 'Do you have shortness of breath ?', 'selected_answer': [{'answer_choice': 'NO'}]}, {'question': 'Do you have sore throat ?', 'selected_answer': [{'answer_choice': 'NO'}]}, {'question': 'Do you have headache ?', 'selected_answer': [{'answer_choice': 'NO'}]}, {'question': 'Was you in contact with covid19 infected person ?', 'selected_answer': [{'answer_choice': 'NO'}]}, {'question': 'Address', 'selected_answer': [{'answer_choice': '2515, Wadekar lean, Chandrashekhar Chowk, Rangargalli, Sangamner, Maharashtra 422605, India'}]}]\n",
            "[0]\n"
          ],
          "name": "stdout"
        },
        {
          "output_type": "stream",
          "text": [
            "127.0.0.1 - - [28/May/2021 15:05:47] \"\u001b[37mPOST / HTTP/1.1\u001b[0m\" 200 -\n"
          ],
          "name": "stderr"
        },
        {
          "output_type": "stream",
          "text": [
            "[{'question': 'Do you have fever ?', 'selected_answer': [{'answer_choice': 'NO'}]}, {'question': 'Are you over 60 years of age ?', 'selected_answer': [{'answer_choice': 'NO'}]}, {'question': 'SEX ?', 'selected_answer': [{'answer_choice': 'Female'}]}, {'question': 'Do you have cough ?', 'selected_answer': [{'answer_choice': 'NO'}]}, {'question': 'Do you have shortness of breath ?', 'selected_answer': [{'answer_choice': 'NO'}]}, {'question': 'Do you have sore throat ?', 'selected_answer': [{'answer_choice': 'NO'}]}, {'question': 'Do you have headache ?', 'selected_answer': [{'answer_choice': 'NO'}]}, {'question': 'Was you in contact with covid19 infected person ?', 'selected_answer': [{'answer_choice': 'NO'}]}, {'question': 'Address', 'selected_answer': [{'answer_choice': '2515, Wadekar lean, Chandrashekhar Chowk, Rangargalli, Sangamner, Maharashtra 422605, India'}]}]\n",
            "[0]\n"
          ],
          "name": "stdout"
        },
        {
          "output_type": "stream",
          "text": [
            "127.0.0.1 - - [28/May/2021 15:07:23] \"\u001b[37mPOST / HTTP/1.1\u001b[0m\" 200 -\n"
          ],
          "name": "stderr"
        },
        {
          "output_type": "stream",
          "text": [
            "[{'question': 'Do you have fever ?', 'selected_answer': [{'answer_choice': 'NO'}]}, {'question': 'Are you over 60 years of age ?', 'selected_answer': [{'answer_choice': 'YES'}]}, {'question': 'SEX ?', 'selected_answer': [{'answer_choice': 'Male'}]}, {'question': 'Do you have cough ?', 'selected_answer': [{'answer_choice': 'YES'}]}, {'question': 'Do you have shortness of breath ?', 'selected_answer': [{'answer_choice': 'YES'}]}, {'question': 'Do you have sore throat ?', 'selected_answer': [{'answer_choice': 'YES'}]}, {'question': 'Do you have headache ?', 'selected_answer': [{'answer_choice': 'YES'}]}, {'question': 'Was you in contact with covid19 infected person ?', 'selected_answer': [{'answer_choice': 'YES'}]}, {'question': 'Address', 'selected_answer': [{'answer_choice': '2515, Wadekar lean, Chandrashekhar Chowk, Rangargalli, Sangamner, Maharashtra 422605, India'}]}]\n",
            "[2]\n"
          ],
          "name": "stdout"
        }
      ]
    },
    {
      "cell_type": "code",
      "metadata": {
        "id": "s5wh_X05bnSL"
      },
      "source": [
        ""
      ],
      "execution_count": null,
      "outputs": []
    }
  ]
}